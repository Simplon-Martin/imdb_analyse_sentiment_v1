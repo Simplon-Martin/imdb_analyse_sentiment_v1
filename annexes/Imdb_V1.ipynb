{
 "cells": [
  {
   "cell_type": "markdown",
   "id": "9aced50c",
   "metadata": {},
   "source": [
    "# Import des librairies"
   ]
  },
  {
   "cell_type": "code",
   "execution_count": 1,
   "id": "f6889f3d",
   "metadata": {},
   "outputs": [],
   "source": [
    "import os\n",
    "import numpy as np\n",
    "import pandas as pd\n",
    "import re\n",
    "\n",
    "from sklearn import metrics\n",
    "from sklearn.feature_extraction.text import CountVectorizer, TfidfTransformer\n",
    "from sklearn.naive_bayes import MultinomialNB, BernoulliNB, GaussianNB\n",
    "from sklearn.model_selection import train_test_split, cross_val_score\n",
    "from sklearn.linear_model import SGDClassifier\n",
    "from sklearn.pipeline import Pipeline\n",
    "from sklearn.metrics import accuracy_score\n",
    "from sklearn.pipeline import make_pipeline\n",
    "from sklearn.svm import SVC\n",
    "from lightgbm import LGBMClassifier"
   ]
  },
  {
   "cell_type": "markdown",
   "id": "f7cd1ad7",
   "metadata": {},
   "source": [
    "# Récupération des données"
   ]
  },
  {
   "cell_type": "code",
   "execution_count": 12,
   "id": "e6ee3c0e",
   "metadata": {},
   "outputs": [
    {
     "name": "stdout",
     "output_type": "stream",
     "text": [
      "                                             reviews  cible\n",
      "0  This movie is about human relationships. Charm...      1\n",
      "1  In my line of work, I occasionally get contact...      1\n",
      "2  Daniell Steel's Daddy, what a refreshing story...      1\n",
      "3  I sat with my children as we watched this film...      1\n",
      "4  Entertaining Jim Belushi vehicle, a modern coc...      1\n",
      "              cible\n",
      "count  50000.000000\n",
      "mean       0.500000\n",
      "std        0.500005\n",
      "min        0.000000\n",
      "25%        0.000000\n",
      "50%        0.500000\n",
      "75%        1.000000\n",
      "max        1.000000\n"
     ]
    }
   ],
   "source": [
    "data = pd.read_csv(\"data_imdb.csv\")\n",
    "print(data.head())\n",
    "print(data.describe())"
   ]
  },
  {
   "cell_type": "markdown",
   "id": "cb10a530",
   "metadata": {},
   "source": [
    "# netoyage des données"
   ]
  },
  {
   "cell_type": "code",
   "execution_count": 6,
   "id": "87fd578b",
   "metadata": {},
   "outputs": [],
   "source": [
    "def remove_html(text):\n",
    "    html=re.compile(r'<.*?>')\n",
    "    return html.sub(r'',text)\n",
    "\n",
    "data['reviews']=data['reviews'].apply(lambda x:remove_html(x))"
   ]
  },
  {
   "cell_type": "markdown",
   "id": "38ecc37b",
   "metadata": {},
   "source": [
    "# Entraînement du model"
   ]
  },
  {
   "cell_type": "code",
   "execution_count": 13,
   "id": "206a6518",
   "metadata": {},
   "outputs": [],
   "source": [
    "X_train, X_test, y_train, y_test=train_test_split(data.reviews,data.cible,\n",
    "                                                             test_size=0.1,random_state=42)"
   ]
  },
  {
   "cell_type": "code",
   "execution_count": 14,
   "id": "730e6a2a",
   "metadata": {},
   "outputs": [
    {
     "name": "stdout",
     "output_type": "stream",
     "text": [
      "0.8564\n"
     ]
    }
   ],
   "source": [
    "text_model = Pipeline([('count_vec', CountVectorizer()), \n",
    "                     ('tfidf_transformer', TfidfTransformer()),\n",
    "                     ('text_model', LGBMClassifier())])\n",
    "\n",
    "text_model.fit(X_train, y_train)\n",
    "y_pred = text_model.predict(X_test)\n",
    "print(accuracy_score(y_test, y_pred))"
   ]
  },
  {
   "cell_type": "code",
   "execution_count": null,
   "id": "2892f4bf",
   "metadata": {},
   "outputs": [],
   "source": []
  }
 ],
 "metadata": {
  "kernelspec": {
   "display_name": "Python 3",
   "language": "python",
   "name": "python3"
  },
  "language_info": {
   "codemirror_mode": {
    "name": "ipython",
    "version": 3
   },
   "file_extension": ".py",
   "mimetype": "text/x-python",
   "name": "python",
   "nbconvert_exporter": "python",
   "pygments_lexer": "ipython3",
   "version": "3.8.11"
  }
 },
 "nbformat": 4,
 "nbformat_minor": 5
}
